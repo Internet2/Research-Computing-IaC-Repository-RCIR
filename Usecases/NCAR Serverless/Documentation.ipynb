{
 "cells": [
  {
   "cell_type": "markdown",
   "metadata": {},
   "source": [
    "The idea was to take some kind of application or workflow that currently runs in a traditional architecture (on-prem cluster, workstation, even all on the same cloud VM) and re-architect it so it takes advantage of things like containerization (so it can be easily shared/ported) and serverless functions. We can go as complicated as we want, so long as we keep it modular. I think with this many people we can go slightly complex, but some simple data transformation seems like a good place to start. The main thing I want to know is what kind of data (file types, database, etc) we'll be working with and the software/languages/applications/transformations that are typically involved, so I can get up to speed. Amanda made it sound like you guys already had a workflow in mind, but I think I may have misinterpreted that.\n",
    "3 replies\n",
    "\n",
    "\n",
    "Thomas Cram\n",
    "  6 hours ago\n",
    "Sounds good.  We have a Python code that reads NetCDF data files and returns regional and temporal subsets based on user provided parameters.  This could be containerized into a serverless function.\n",
    "\n",
    "\n",
    "Thomas Cram\n",
    "  5 hours ago\n",
    "The data we’re considering here would be climate model output.  For example, surface temperature in NetCDF format defined on a regular latitude/longitude grid (global coverage).  Time period covers most of the 20th century to present.  An example data subset workflow would be that a user requests surface temperature data over the continental US for the years 1990-2020.  The serverless function would process the input parameters (region and time) and return the subsetted data.\n",
    "\n",
    "\n",
    "\n",
    "\n",
    "\n",
    "Thomas Cram\n",
    "  5 hours ago\n",
    "Input data could be stored in S3, and output data could likewise be written to temporary S3 bucket where user can access it."
   ]
  }
 ],
 "metadata": {
  "language_info": {
   "name": "python"
  },
  "orig_nbformat": 4
 },
 "nbformat": 4,
 "nbformat_minor": 2
}
